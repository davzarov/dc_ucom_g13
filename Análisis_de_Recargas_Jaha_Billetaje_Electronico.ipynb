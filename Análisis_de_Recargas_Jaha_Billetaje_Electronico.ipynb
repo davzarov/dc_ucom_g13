{
 "cells": [
  {
   "cell_type": "markdown",
   "metadata": {},
   "source": [
    "<h1> Predicción de recargas y usos de tarjetas de billetaje electrónico Jaha </h1>  "
   ]
  },
  {
   "cell_type": "markdown",
   "metadata": {},
   "source": [
    "<h2>Integrantes:</h2>"
   ]
  },
  {
   "cell_type": "markdown",
   "metadata": {},
   "source": [
    "<ul>\n",
    "  <li>Marcos Bernal Añazco</li>\n",
    "  <li>Arturo Ferreira</li>\n",
    "  <li>David Zárate</li>\n",
    "  <li>Carlos Ortigoza</li>\n",
    "  <li>Maria Eugenia González</li>\n",
    "</ul>"
   ]
  },
  {
   "cell_type": "markdown",
   "metadata": {},
   "source": [
    "<h2>Resumen</h2>"
   ]
  },
  {
   "cell_type": "markdown",
   "metadata": {},
   "source": [
    "<p><b>El sistema nacional de billetaje electronico interoperable</b> se encuentra regulada por el <b>Vice Ministerio de \n",
    "Transporte</b>, que en el rol de Autoridad de aplicacion y control establece los delineamientos\n",
    "para que las <b>Empresas Prestadoras de Servicios (EPAS Y TDP)</b> sean autorizadas para la explotacion del sistema, denominadas\n",
    "en adelante <b>EPS</b>.</p>\n",
    "<p>Estas EPS tienen como una de sus obligaciones emitir medios de pago para los usuarios y dotar\n",
    "de mecanismos de recarga y aceptacion de los mismos para llegar a los tarjeta habientes y dar cumplimiento a la ley del pago electronico del pasaje en Asuncion y el area Metropolitana inicialmente.</p>\n",
    "<p>Cada EPS tiene su propia marca, Jaha que pertenece a EPAS SAE y Mas+ que pertenece a TDP.</p>\n",
    "<p>A travez de los datos obtenidos se pretende hacer un analisis exploratorio de datos y desarrollar\n",
    "una herramienta de prediccion basado en datos previos de las recargas de tarjetas en otra EPS \n",
    "distinta a la del emisor de la tarjeta que es utilizada en un sistema distinto, es decir, realizar el analisis predictivo de las tarjetas de Jaha que recarguen en la red de TDP pero son utilizadas en los buses de JAHA.</p>\n"
   ]
  },
  {
   "cell_type": "markdown",
   "metadata": {},
   "source": [
    "<h3>Breve Introducción y justificación</h3>"
   ]
  },
  {
   "cell_type": "markdown",
   "metadata": {},
   "source": [
    "<p>El el marco del cumplimiento de la presentacion de un proyecto de fin del Diplomado en \n",
    "Ciencia de Datos el grupo 13 opto por la investigacion sobre el Billetaje Electronico \n",
    "del Paraguay, considerando que se trata de un servicio con una alta carga social y por su \n",
    "naturaleza creimos importante abordar.</p> \n",
    "<p>Si bien existe un amplio margen de accion sobre estos datos, el proyecto se centro en el \n",
    "comportamiento de los usuarios de tarjetas en funcion a donde realizan recargas y en buses de\n",
    "que empresas las utilizan.</p>"
   ]
  },
  {
   "cell_type": "markdown",
   "metadata": {},
   "source": [
    "<h2>OBJETIVOS</h2>"
   ]
  },
  {
   "cell_type": "markdown",
   "metadata": {},
   "source": [
    "<p>Estimar un modelo de Machine Learning utilizando la técnica de Regresión Lineal para demostrar los impactos de las variables proporcionadas en este conjunto de datos sobre el proceso de recargas de tarjetas en una EPS distinta a JAHA (Y). Al final del proyecto tendremos un modelo de pronóstico para la cantidad de recargas promedio en otra EPS según los insumos de un conjunto de variables (X's).</p>"
   ]
  },
  {
   "cell_type": "markdown",
   "metadata": {},
   "source": [
    "<h2>METODOLOGIA</h2>"
   ]
  },
  {
   "cell_type": "markdown",
   "metadata": {},
   "source": [
    "<p><h3>Técnica de Regresión Lineal</h3></p>\n",
    "<p>La regresión lineal es una técnica de análisis de datos que predice el valor de datos desconocidos mediante el uso de otro valor de datos relacionado y conocido. Modela matemáticamente la variable desconocida o dependiente y la variable conocida o independiente como una ecuación lineal. </p>"
   ]
  },
  {
   "cell_type": "markdown",
   "metadata": {},
   "source": [
    "<h1>Resumen de contenido: </h1>\n",
    "<h2>1. Organización del DataFrame</h2>\n",
    "<h2>2. Lectura de Datos</h2>\n",
    "<h2>3. Visualizacion de los datos</h2>\n",
    "<h2>4. Verificacion del tamaño del conjunto de datos</h2>\n",
    "<h2>4. Clasificación - Evaluación del modelo</h2>"
   ]
  },
  {
   "cell_type": "markdown",
   "metadata": {},
   "source": [
    "# <font color='blue' style='font-size: 30px;'>Análisis Preliminares</font>\n",
    "<hr style='border: 2px solid blue;'>"
   ]
  },
  {
   "cell_type": "markdown",
   "metadata": {
    "heading_collapsed": true
   },
   "source": [
    "## Estadísticas descriptivas"
   ]
  },
  {
   "cell_type": "code",
   "execution_count": null,
   "metadata": {
    "hidden": true
   },
   "outputs": [],
   "source": []
  },
  {
   "cell_type": "markdown",
   "metadata": {
    "heading_collapsed": true
   },
   "source": [
    "## Matriz de correlación\n",
    "\n",
    "<p style='font-size: 18px; line-height: 2; margin: 10px 50px; text-align: justify;'>El <b>coeficiente de correlación</b> es una medida de asociación lineal entre dos variables y se situa entre <b>-1</b> y <b>+1</b> siendo que <b>-1</b> indica asociación negativa perfecta y <b>+1</b> indica asociación positiva perfecta.</p>"
   ]
  },
  {
   "cell_type": "code",
   "execution_count": null,
   "metadata": {
    "hidden": true
   },
   "outputs": [],
   "source": []
  },
  {
   "cell_type": "markdown",
   "metadata": {},
   "source": [
    "# <font color='blue' style='font-size: 30px;'>Comportamiento de la Variable Dependiente (Y)</font>\n",
    "<hr style='border: 2px solid blue;'>"
   ]
  },
  {
   "cell_type": "markdown",
   "metadata": {},
   "source": [
    "# Análisis gráficas"
   ]
  },
  {
   "cell_type": "markdown",
   "metadata": {},
   "source": [
    "## Graficando la variable *dependiente* (y)"
   ]
  },
  {
   "cell_type": "code",
   "execution_count": null,
   "metadata": {},
   "outputs": [],
   "source": []
  },
  {
   "cell_type": "markdown",
   "metadata": {},
   "source": [
    "# <font color='blue' style='font-size: 30px;'>Box Plot</font>\n",
    "<hr style='border: 2px solid blue;'>"
   ]
  },
  {
   "cell_type": "markdown",
   "metadata": {},
   "source": [
    "## Importando la librería seaborn\n",
    "\n",
    "<p style='font-size: 18px; line-height: 2; margin: 10px 50px; text-align: justify;'>Seaborn es una librería Python de visualización de datos basada en el matplotlib. Ella ofrece una interface de alto nível para diseñar gráficos estadísticos.</p>"
   ]
  },
  {
   "cell_type": "code",
   "execution_count": null,
   "metadata": {},
   "outputs": [],
   "source": [
    "import seaborn as sns"
   ]
  },
  {
   "cell_type": "markdown",
   "metadata": {},
   "source": [
    "## Box plot de la variáble *dependiente* (y)"
   ]
  },
  {
   "cell_type": "code",
   "execution_count": null,
   "metadata": {},
   "outputs": [],
   "source": []
  },
  {
   "cell_type": "markdown",
   "metadata": {},
   "source": [
    "# <font color='blue' style='font-size: 30px;'>Box Plot con Dos Variábles</font>\n",
    "<hr style='border: 2px solid blue;'>"
   ]
  },
  {
   "cell_type": "markdown",
   "metadata": {},
   "source": [
    "## Investigando la variable *dependente* (y) segun determinadas características"
   ]
  },
  {
   "cell_type": "code",
   "execution_count": null,
   "metadata": {},
   "outputs": [],
   "source": []
  },
  {
   "cell_type": "markdown",
   "metadata": {},
   "source": [
    "# <font color='blue' style='font-size: 30px;'>Distribución de Frecuencias</font>\n",
    "<hr style='border: 2px solid blue;'>"
   ]
  },
  {
   "cell_type": "markdown",
   "metadata": {},
   "source": [
    "## Distribución de frecuencias da variáble *dependiente* (y)"
   ]
  },
  {
   "cell_type": "code",
   "execution_count": null,
   "metadata": {},
   "outputs": [],
   "source": []
  },
  {
   "cell_type": "markdown",
   "metadata": {},
   "source": [
    "# <font color='blue' style='font-size: 30px;'>Variáble Dependiente X Variábles Explicativas (pairplot)</font>\n",
    "<hr style='border: 2px solid blue;'>"
   ]
  },
  {
   "cell_type": "markdown",
   "metadata": {},
   "source": [
    "## Gráficos de dispersión entre las variábles del conjunto de datos"
   ]
  },
  {
   "cell_type": "markdown",
   "metadata": {},
   "source": [
    "## seaborn.pairplot\n",
    "<p style='font-size: 18px; line-height: 2; margin: 10px 50px; text-align: justify;'>Grafica el relacionamiento entre pares de variábles en un dataset.</p>"
   ]
  },
  {
   "cell_type": "code",
   "execution_count": null,
   "metadata": {},
   "outputs": [],
   "source": []
  },
  {
   "cell_type": "markdown",
   "metadata": {},
   "source": [
    "## Graficando el pairplot fijando solamente una variáble en el eje y"
   ]
  },
  {
   "cell_type": "code",
   "execution_count": null,
   "metadata": {},
   "outputs": [],
   "source": []
  },
  {
   "cell_type": "code",
   "execution_count": null,
   "metadata": {},
   "outputs": [],
   "source": []
  },
  {
   "cell_type": "markdown",
   "metadata": {},
   "source": [
    "# <font color='blue' style='font-size: 30px;'>Variáble Dependiente X Variáble Explicativas (jointplot)</font>\n",
    "<hr style='border: 2px solid blue;'>"
   ]
  },
  {
   "cell_type": "markdown",
   "metadata": {},
   "source": [
    "## seaborn.jointplot\n",
    "<p style='font-size: 18px; line-height: 2; margin: 10px 50px; text-align: justify;'>Grafica el relacionamiento entre dos variábles y sus respectivas distribuciones de frecuencia.</p>"
   ]
  },
  {
   "cell_type": "code",
   "execution_count": null,
   "metadata": {},
   "outputs": [],
   "source": []
  },
  {
   "cell_type": "markdown",
   "metadata": {},
   "source": [
    "## Graficando un jointplot con la recta de regresión estimada"
   ]
  },
  {
   "cell_type": "code",
   "execution_count": null,
   "metadata": {},
   "outputs": [],
   "source": []
  },
  {
   "cell_type": "markdown",
   "metadata": {},
   "source": [
    "# <font color='blue' style='font-size: 30px;'>Variáble Dependiente X Variábles Explicativas (lmplot)</font>\n",
    "<hr style='border: 2px solid blue;'>"
   ]
  },
  {
   "cell_type": "code",
   "execution_count": null,
   "metadata": {},
   "outputs": [],
   "source": []
  },
  {
   "cell_type": "markdown",
   "metadata": {},
   "source": [
    "## seaborn.lmplot\n",
    "<p style='font-size: 18px; line-height: 2; margin: 10px 50px; text-align: justify;'>Grafica la recta de regresión entre dos variábles juntamente con la dispersión entre ellas.</p>"
   ]
  },
  {
   "cell_type": "code",
   "execution_count": null,
   "metadata": {},
   "outputs": [],
   "source": []
  },
  {
   "cell_type": "markdown",
   "metadata": {},
   "source": [
    "## Graficando un lmplot utilizando una tercera variáble en el análisis (tipo I)"
   ]
  },
  {
   "cell_type": "code",
   "execution_count": null,
   "metadata": {},
   "outputs": [],
   "source": []
  },
  {
   "cell_type": "markdown",
   "metadata": {},
   "source": [
    "## Graficando un lmplot utilizando una tercera variáble en el análisis (tipo II)"
   ]
  },
  {
   "cell_type": "code",
   "execution_count": null,
   "metadata": {},
   "outputs": [],
   "source": []
  },
  {
   "cell_type": "markdown",
   "metadata": {},
   "source": [
    "# <font color='orange' style='font-size: 30px;'>Estimando un Modelo de Regresión Lineal para Recargas Jaha</font>\n",
    "<hr style='border: 2px solid orange;'>"
   ]
  },
  {
   "cell_type": "markdown",
   "metadata": {},
   "source": [
    "# Regresión Lineal\n",
    "<hr>\n",
    "\n",
    "<p style='font-size: 20px; line-height: 2; margin: 10px 50px; text-align: justify;'>El análisis de regresión se refiere al estudio de la dependencia de una variable (la variable <b>dependiente</b>) en relación con una o más variables, las variables explicativas, con el objetivo de estimar y/o predecir el valor medio de la primera en términos de los valores conocidos o fijos de la segunda</p>"
   ]
  },
  {
   "cell_type": "markdown",
   "metadata": {},
   "source": [
    "# <font color='orange' style='font-size: 30px;'>Obteniendo Previsiones Puntuales</font>\n",
    "<hr style='border: 2px solid orange;'>"
   ]
  },
  {
   "cell_type": "markdown",
   "metadata": {},
   "source": [
    "## Datos de entrada"
   ]
  },
  {
   "cell_type": "code",
   "execution_count": null,
   "metadata": {},
   "outputs": [],
   "source": []
  },
  {
   "cell_type": "markdown",
   "metadata": {},
   "source": [
    "## Generando previsión puntual"
   ]
  },
  {
   "cell_type": "code",
   "execution_count": null,
   "metadata": {},
   "outputs": [],
   "source": []
  },
  {
   "cell_type": "markdown",
   "metadata": {},
   "source": [
    "## Creando un simulador simple"
   ]
  },
  {
   "cell_type": "code",
   "execution_count": null,
   "metadata": {},
   "outputs": [],
   "source": []
  },
  {
   "cell_type": "markdown",
   "metadata": {},
   "source": [
    "# <font color='orange' style='font-size: 30px;'>Interpretación de los Coeficientes Estimados</font>\n",
    "<hr style='border: 2px solid orange;'>"
   ]
  },
  {
   "cell_type": "code",
   "execution_count": null,
   "metadata": {},
   "outputs": [],
   "source": []
  }
 ],
 "metadata": {
  "kernelspec": {
   "display_name": "Python 3 (ipykernel)",
   "language": "python",
   "name": "python3"
  },
  "language_info": {
   "codemirror_mode": {
    "name": "ipython",
    "version": 3
   },
   "file_extension": ".py",
   "mimetype": "text/x-python",
   "name": "python",
   "nbconvert_exporter": "python",
   "pygments_lexer": "ipython3",
   "version": "3.8.8"
  }
 },
 "nbformat": 4,
 "nbformat_minor": 4
}
